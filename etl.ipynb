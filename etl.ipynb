{
 "cells": [
  {
   "cell_type": "markdown",
   "metadata": {},
   "source": [
    "author: Phung Binh </br>\n",
    "email: psybinh@gmail.com"
   ]
  },
  {
   "cell_type": "code",
   "execution_count": 1,
   "metadata": {},
   "outputs": [],
   "source": [
    "DATA_FOLDER = '/home/binhps/de-udacity/data_modeling_with_postgres/MillionSongSample/'\n",
    "LOG_DATA_FOLDER = DATA_FOLDER + 'log_data/'\n",
    "SONG_DATA_FOLDER = DATA_FOLDER + 'song_data/'"
   ]
  },
  {
   "cell_type": "code",
   "execution_count": 2,
   "metadata": {},
   "outputs": [],
   "source": [
    "import os\n",
    "import pandas as pd\n",
    "\n",
    "# log data\n",
    "def all_files(_dir):\n",
    "    for root, dirs, files in os.walk(_dir):\n",
    "        for file in files:\n",
    "            path = os.path.join(root, file)\n",
    "            yield path"
   ]
  },
  {
   "cell_type": "code",
   "execution_count": 3,
   "metadata": {},
   "outputs": [
    {
     "name": "stdout",
     "output_type": "stream",
     "text": [
      "Index(['artist', 'auth', 'firstName', 'gender', 'itemInSession', 'lastName',\n",
      "       'length', 'level', 'location', 'method', 'page', 'registration',\n",
      "       'sessionId', 'song', 'status', 'ts', 'userAgent', 'userId'],\n",
      "      dtype='object')\n",
      "<class 'pandas.core.frame.DataFrame'>\n",
      "RangeIndex: 59 entries, 0 to 58\n",
      "Data columns (total 18 columns):\n",
      "artist           41 non-null object\n",
      "auth             59 non-null object\n",
      "firstName        58 non-null object\n",
      "gender           58 non-null object\n",
      "itemInSession    59 non-null int64\n",
      "lastName         58 non-null object\n",
      "length           41 non-null float64\n",
      "level            59 non-null object\n",
      "location         58 non-null object\n",
      "method           59 non-null object\n",
      "page             59 non-null object\n",
      "registration     58 non-null float64\n",
      "sessionId        59 non-null int64\n",
      "song             41 non-null object\n",
      "status           59 non-null int64\n",
      "ts               59 non-null int64\n",
      "userAgent        58 non-null object\n",
      "userId           59 non-null object\n",
      "dtypes: float64(2), int64(4), object(12)\n",
      "memory usage: 8.4+ KB\n",
      "None\n"
     ]
    }
   ],
   "source": [
    "for file_path in all_files(LOG_DATA_FOLDER):\n",
    "    file = pd.read_json(file_path, lines=True)\n",
    "    \n",
    "print(file.columns)\n",
    "print(file.info())"
   ]
  },
  {
   "cell_type": "code",
   "execution_count": 4,
   "metadata": {},
   "outputs": [
    {
     "data": {
      "text/html": [
       "<div>\n",
       "<style scoped>\n",
       "    .dataframe tbody tr th:only-of-type {\n",
       "        vertical-align: middle;\n",
       "    }\n",
       "\n",
       "    .dataframe tbody tr th {\n",
       "        vertical-align: top;\n",
       "    }\n",
       "\n",
       "    .dataframe thead th {\n",
       "        text-align: right;\n",
       "    }\n",
       "</style>\n",
       "<table border=\"1\" class=\"dataframe\">\n",
       "  <thead>\n",
       "    <tr style=\"text-align: right;\">\n",
       "      <th></th>\n",
       "      <th>artist</th>\n",
       "      <th>auth</th>\n",
       "      <th>firstName</th>\n",
       "      <th>gender</th>\n",
       "      <th>itemInSession</th>\n",
       "      <th>lastName</th>\n",
       "      <th>length</th>\n",
       "      <th>level</th>\n",
       "      <th>location</th>\n",
       "      <th>method</th>\n",
       "      <th>page</th>\n",
       "      <th>registration</th>\n",
       "      <th>sessionId</th>\n",
       "      <th>song</th>\n",
       "      <th>status</th>\n",
       "      <th>ts</th>\n",
       "      <th>userAgent</th>\n",
       "      <th>userId</th>\n",
       "    </tr>\n",
       "  </thead>\n",
       "  <tbody>\n",
       "    <tr>\n",
       "      <td>0</td>\n",
       "      <td>matchbox twenty</td>\n",
       "      <td>Logged In</td>\n",
       "      <td>Jayden</td>\n",
       "      <td>F</td>\n",
       "      <td>0</td>\n",
       "      <td>Duffy</td>\n",
       "      <td>177.65832</td>\n",
       "      <td>free</td>\n",
       "      <td>Seattle-Tacoma-Bellevue, WA</td>\n",
       "      <td>PUT</td>\n",
       "      <td>NextSong</td>\n",
       "      <td>1.540146e+12</td>\n",
       "      <td>846</td>\n",
       "      <td>Argue (LP Version)</td>\n",
       "      <td>200</td>\n",
       "      <td>1543109954796</td>\n",
       "      <td>\"Mozilla/5.0 (iPhone; CPU iPhone OS 7_1_2 like...</td>\n",
       "      <td>76</td>\n",
       "    </tr>\n",
       "    <tr>\n",
       "      <td>1</td>\n",
       "      <td>The Lonely Island / T-Pain</td>\n",
       "      <td>Logged In</td>\n",
       "      <td>Jayden</td>\n",
       "      <td>F</td>\n",
       "      <td>1</td>\n",
       "      <td>Duffy</td>\n",
       "      <td>156.23791</td>\n",
       "      <td>free</td>\n",
       "      <td>Seattle-Tacoma-Bellevue, WA</td>\n",
       "      <td>PUT</td>\n",
       "      <td>NextSong</td>\n",
       "      <td>1.540146e+12</td>\n",
       "      <td>846</td>\n",
       "      <td>I'm On A Boat</td>\n",
       "      <td>200</td>\n",
       "      <td>1543110131796</td>\n",
       "      <td>\"Mozilla/5.0 (iPhone; CPU iPhone OS 7_1_2 like...</td>\n",
       "      <td>76</td>\n",
       "    </tr>\n",
       "    <tr>\n",
       "      <td>2</td>\n",
       "      <td>None</td>\n",
       "      <td>Logged In</td>\n",
       "      <td>Jayden</td>\n",
       "      <td>F</td>\n",
       "      <td>2</td>\n",
       "      <td>Duffy</td>\n",
       "      <td>NaN</td>\n",
       "      <td>free</td>\n",
       "      <td>Seattle-Tacoma-Bellevue, WA</td>\n",
       "      <td>GET</td>\n",
       "      <td>Home</td>\n",
       "      <td>1.540146e+12</td>\n",
       "      <td>846</td>\n",
       "      <td>None</td>\n",
       "      <td>200</td>\n",
       "      <td>1543110132796</td>\n",
       "      <td>\"Mozilla/5.0 (iPhone; CPU iPhone OS 7_1_2 like...</td>\n",
       "      <td>76</td>\n",
       "    </tr>\n",
       "    <tr>\n",
       "      <td>3</td>\n",
       "      <td>None</td>\n",
       "      <td>Logged In</td>\n",
       "      <td>Jayden</td>\n",
       "      <td>F</td>\n",
       "      <td>3</td>\n",
       "      <td>Duffy</td>\n",
       "      <td>NaN</td>\n",
       "      <td>free</td>\n",
       "      <td>Seattle-Tacoma-Bellevue, WA</td>\n",
       "      <td>GET</td>\n",
       "      <td>Settings</td>\n",
       "      <td>1.540146e+12</td>\n",
       "      <td>846</td>\n",
       "      <td>None</td>\n",
       "      <td>200</td>\n",
       "      <td>1543110168796</td>\n",
       "      <td>\"Mozilla/5.0 (iPhone; CPU iPhone OS 7_1_2 like...</td>\n",
       "      <td>76</td>\n",
       "    </tr>\n",
       "    <tr>\n",
       "      <td>4</td>\n",
       "      <td>None</td>\n",
       "      <td>Logged In</td>\n",
       "      <td>Jayden</td>\n",
       "      <td>F</td>\n",
       "      <td>4</td>\n",
       "      <td>Duffy</td>\n",
       "      <td>NaN</td>\n",
       "      <td>free</td>\n",
       "      <td>Seattle-Tacoma-Bellevue, WA</td>\n",
       "      <td>PUT</td>\n",
       "      <td>Save Settings</td>\n",
       "      <td>1.540146e+12</td>\n",
       "      <td>846</td>\n",
       "      <td>None</td>\n",
       "      <td>307</td>\n",
       "      <td>1543110169796</td>\n",
       "      <td>\"Mozilla/5.0 (iPhone; CPU iPhone OS 7_1_2 like...</td>\n",
       "      <td>76</td>\n",
       "    </tr>\n",
       "  </tbody>\n",
       "</table>\n",
       "</div>"
      ],
      "text/plain": [
       "                       artist       auth firstName gender  itemInSession  \\\n",
       "0             matchbox twenty  Logged In    Jayden      F              0   \n",
       "1  The Lonely Island / T-Pain  Logged In    Jayden      F              1   \n",
       "2                        None  Logged In    Jayden      F              2   \n",
       "3                        None  Logged In    Jayden      F              3   \n",
       "4                        None  Logged In    Jayden      F              4   \n",
       "\n",
       "  lastName     length level                     location method  \\\n",
       "0    Duffy  177.65832  free  Seattle-Tacoma-Bellevue, WA    PUT   \n",
       "1    Duffy  156.23791  free  Seattle-Tacoma-Bellevue, WA    PUT   \n",
       "2    Duffy        NaN  free  Seattle-Tacoma-Bellevue, WA    GET   \n",
       "3    Duffy        NaN  free  Seattle-Tacoma-Bellevue, WA    GET   \n",
       "4    Duffy        NaN  free  Seattle-Tacoma-Bellevue, WA    PUT   \n",
       "\n",
       "            page  registration  sessionId                song  status  \\\n",
       "0       NextSong  1.540146e+12        846  Argue (LP Version)     200   \n",
       "1       NextSong  1.540146e+12        846       I'm On A Boat     200   \n",
       "2           Home  1.540146e+12        846                None     200   \n",
       "3       Settings  1.540146e+12        846                None     200   \n",
       "4  Save Settings  1.540146e+12        846                None     307   \n",
       "\n",
       "              ts                                          userAgent userId  \n",
       "0  1543109954796  \"Mozilla/5.0 (iPhone; CPU iPhone OS 7_1_2 like...     76  \n",
       "1  1543110131796  \"Mozilla/5.0 (iPhone; CPU iPhone OS 7_1_2 like...     76  \n",
       "2  1543110132796  \"Mozilla/5.0 (iPhone; CPU iPhone OS 7_1_2 like...     76  \n",
       "3  1543110168796  \"Mozilla/5.0 (iPhone; CPU iPhone OS 7_1_2 like...     76  \n",
       "4  1543110169796  \"Mozilla/5.0 (iPhone; CPU iPhone OS 7_1_2 like...     76  "
      ]
     },
     "execution_count": 4,
     "metadata": {},
     "output_type": "execute_result"
    }
   ],
   "source": [
    "file.head()"
   ]
  },
  {
   "cell_type": "code",
   "execution_count": 5,
   "metadata": {},
   "outputs": [
    {
     "data": {
      "text/plain": [
       "0   2018-11-25 01:39:14.796\n",
       "1   2018-11-25 01:42:11.796\n",
       "2   2018-11-25 01:42:12.796\n",
       "3   2018-11-25 01:42:48.796\n",
       "4   2018-11-25 01:42:49.796\n",
       "Name: ts, dtype: datetime64[ns]"
      ]
     },
     "execution_count": 5,
     "metadata": {},
     "output_type": "execute_result"
    }
   ],
   "source": [
    "datetime = pd.to_datetime(file['ts'], unit='ms')\n",
    "datetime.head()"
   ]
  },
  {
   "cell_type": "code",
   "execution_count": 8,
   "metadata": {},
   "outputs": [
    {
     "name": "stdout",
     "output_type": "stream",
     "text": [
      "Index(['num_songs', 'artist_id', 'artist_latitude', 'artist_longitude',\n",
      "       'artist_location', 'artist_name', 'song_id', 'title', 'duration',\n",
      "       'year'],\n",
      "      dtype='object')\n",
      "<class 'pandas.core.frame.DataFrame'>\n",
      "RangeIndex: 1 entries, 0 to 0\n",
      "Data columns (total 10 columns):\n",
      "num_songs           1 non-null int64\n",
      "artist_id           1 non-null object\n",
      "artist_latitude     0 non-null float64\n",
      "artist_longitude    0 non-null float64\n",
      "artist_location     1 non-null object\n",
      "artist_name         1 non-null object\n",
      "song_id             1 non-null object\n",
      "title               1 non-null object\n",
      "duration            1 non-null float64\n",
      "year                1 non-null int64\n",
      "dtypes: float64(3), int64(2), object(5)\n",
      "memory usage: 208.0+ bytes\n",
      "None\n"
     ]
    }
   ],
   "source": [
    "for file_path in all_files(SONG_DATA_FOLDER):\n",
    "    file = pd.read_json(file_path, lines=True)\n",
    "    \n",
    "print(file.columns)\n",
    "print(file.info())"
   ]
  },
  {
   "cell_type": "code",
   "execution_count": 12,
   "metadata": {},
   "outputs": [
    {
     "data": {
      "text/html": [
       "<div>\n",
       "<style scoped>\n",
       "    .dataframe tbody tr th:only-of-type {\n",
       "        vertical-align: middle;\n",
       "    }\n",
       "\n",
       "    .dataframe tbody tr th {\n",
       "        vertical-align: top;\n",
       "    }\n",
       "\n",
       "    .dataframe thead th {\n",
       "        text-align: right;\n",
       "    }\n",
       "</style>\n",
       "<table border=\"1\" class=\"dataframe\">\n",
       "  <thead>\n",
       "    <tr style=\"text-align: right;\">\n",
       "      <th></th>\n",
       "      <th>num_songs</th>\n",
       "      <th>artist_id</th>\n",
       "      <th>artist_latitude</th>\n",
       "      <th>artist_longitude</th>\n",
       "      <th>artist_location</th>\n",
       "      <th>artist_name</th>\n",
       "      <th>song_id</th>\n",
       "      <th>title</th>\n",
       "      <th>duration</th>\n",
       "      <th>year</th>\n",
       "    </tr>\n",
       "  </thead>\n",
       "  <tbody>\n",
       "    <tr>\n",
       "      <td>0</td>\n",
       "      <td>1</td>\n",
       "      <td>ARJIE2Y1187B994AB7</td>\n",
       "      <td>NaN</td>\n",
       "      <td>NaN</td>\n",
       "      <td></td>\n",
       "      <td>Line Renaud</td>\n",
       "      <td>SOUPIRU12A6D4FA1E1</td>\n",
       "      <td>Der Kleine Dompfaff</td>\n",
       "      <td>152.92036</td>\n",
       "      <td>0</td>\n",
       "    </tr>\n",
       "  </tbody>\n",
       "</table>\n",
       "</div>"
      ],
      "text/plain": [
       "   num_songs           artist_id  artist_latitude  artist_longitude  \\\n",
       "0          1  ARJIE2Y1187B994AB7              NaN               NaN   \n",
       "\n",
       "  artist_location  artist_name             song_id                title  \\\n",
       "0                  Line Renaud  SOUPIRU12A6D4FA1E1  Der Kleine Dompfaff   \n",
       "\n",
       "    duration  year  \n",
       "0  152.92036     0  "
      ]
     },
     "execution_count": 12,
     "metadata": {},
     "output_type": "execute_result"
    }
   ],
   "source": [
    "file"
   ]
  },
  {
   "cell_type": "code",
   "execution_count": 10,
   "metadata": {},
   "outputs": [
    {
     "data": {
      "text/plain": [
       "array([['SOUPIRU12A6D4FA1E1', 'Der Kleine Dompfaff',\n",
       "        'ARJIE2Y1187B994AB7', 0, 152.92036]], dtype=object)"
      ]
     },
     "execution_count": 10,
     "metadata": {},
     "output_type": "execute_result"
    }
   ],
   "source": [
    "song_data = file[['song_id', 'title', 'artist_id', 'year', 'duration']]\n",
    "song_data.values"
   ]
  },
  {
   "cell_type": "code",
   "execution_count": null,
   "metadata": {},
   "outputs": [],
   "source": []
  }
 ],
 "metadata": {
  "kernelspec": {
   "display_name": "Python 3",
   "language": "python",
   "name": "python3"
  },
  "language_info": {
   "codemirror_mode": {
    "name": "ipython",
    "version": 3
   },
   "file_extension": ".py",
   "mimetype": "text/x-python",
   "name": "python",
   "nbconvert_exporter": "python",
   "pygments_lexer": "ipython3",
   "version": "3.7.3"
  }
 },
 "nbformat": 4,
 "nbformat_minor": 4
}
