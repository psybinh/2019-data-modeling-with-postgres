{
 "cells": [
  {
   "cell_type": "code",
   "execution_count": 4,
   "metadata": {},
   "outputs": [],
   "source": [
    "import pandas as pd"
   ]
  },
  {
   "cell_type": "code",
   "execution_count": 5,
   "metadata": {},
   "outputs": [
    {
     "name": "stdout",
     "output_type": "stream",
     "text": [
      "<class 'pandas.core.frame.DataFrame'>\n",
      "RangeIndex: 1 entries, 0 to 0\n",
      "Data columns (total 10 columns):\n",
      "num_songs           1 non-null int64\n",
      "artist_id           1 non-null object\n",
      "artist_latitude     0 non-null float64\n",
      "artist_longitude    0 non-null float64\n",
      "artist_location     1 non-null object\n",
      "artist_name         1 non-null object\n",
      "song_id             1 non-null object\n",
      "title               1 non-null object\n",
      "duration            1 non-null float64\n",
      "year                1 non-null int64\n",
      "dtypes: float64(3), int64(2), object(5)\n",
      "memory usage: 208.0+ bytes\n",
      "None\n"
     ]
    }
   ],
   "source": [
    "song_sample = pd.read_json('/home/binhps/de-udacity/data/MillionSongSample/song_data/A/A/A/TRAAAAW128F429D538.json', lines=True)\n",
    "print(song_sample.info())"
   ]
  },
  {
   "cell_type": "code",
   "execution_count": 6,
   "metadata": {},
   "outputs": [
    {
     "name": "stdout",
     "output_type": "stream",
     "text": [
      "<class 'pandas.core.frame.DataFrame'>\n",
      "RangeIndex: 15 entries, 0 to 14\n",
      "Data columns (total 18 columns):\n",
      "artist           11 non-null object\n",
      "auth             15 non-null object\n",
      "firstName        15 non-null object\n",
      "gender           15 non-null object\n",
      "itemInSession    15 non-null int64\n",
      "lastName         15 non-null object\n",
      "length           11 non-null float64\n",
      "level            15 non-null object\n",
      "location         15 non-null object\n",
      "method           15 non-null object\n",
      "page             15 non-null object\n",
      "registration     15 non-null int64\n",
      "sessionId        15 non-null int64\n",
      "song             11 non-null object\n",
      "status           15 non-null int64\n",
      "ts               15 non-null int64\n",
      "userAgent        15 non-null object\n",
      "userId           15 non-null int64\n",
      "dtypes: float64(1), int64(6), object(11)\n",
      "memory usage: 2.2+ KB\n",
      "None\n"
     ]
    }
   ],
   "source": [
    "log_sample = pd.read_json('/home/binhps/de-udacity/data/MillionSongSample/log_data/2018/11/2018-11-01-events.json', lines=True)\n",
    "print(log_sample.info())"
   ]
  },
  {
   "cell_type": "code",
   "execution_count": null,
   "metadata": {},
   "outputs": [],
   "source": []
  }
 ],
 "metadata": {
  "kernelspec": {
   "display_name": "Python 3",
   "language": "python",
   "name": "python3"
  },
  "language_info": {
   "codemirror_mode": {
    "name": "ipython",
    "version": 3
   },
   "file_extension": ".py",
   "mimetype": "text/x-python",
   "name": "python",
   "nbconvert_exporter": "python",
   "pygments_lexer": "ipython3",
   "version": "3.7.3"
  }
 },
 "nbformat": 4,
 "nbformat_minor": 4
}
