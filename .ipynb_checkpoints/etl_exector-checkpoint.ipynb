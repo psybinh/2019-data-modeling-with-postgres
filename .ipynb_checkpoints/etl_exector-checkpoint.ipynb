{
 "cells": [
  {
   "cell_type": "code",
   "execution_count": 1,
   "metadata": {},
   "outputs": [],
   "source": [
    "import psycopg2\n",
    "from sql_queries import create_db, drop_db\n",
    "from sql_queries import drop_table_artists, drop_table_songplays, drop_table_songs, drop_table_time, drop_table_users\n",
    "from sql_queries import create_table_artists, create_table_songplays, create_table_songs, create_table_time, create_table_users"
   ]
  },
  {
   "cell_type": "code",
   "execution_count": 2,
   "metadata": {},
   "outputs": [],
   "source": [
    "def connect_db(host, user, password):\n",
    "    try:\n",
    "        conn = psycopg2.connect('host={} user={} password={}'.format(host, user, password))\n",
    "        conn.set_session(autocommit=True)\n",
    "    except psycopg2.Error as e:\n",
    "        print(e)\n",
    "    return conn\n",
    "\n",
    "def disconnect_db(conn):\n",
    "    try:\n",
    "        conn.close()\n",
    "    except psycopg2.Error as e:\n",
    "        print(e)\n",
    "\n",
    "def execute_query(curr, query):\n",
    "    try:\n",
    "        curr.execute(query)\n",
    "    except psycopg2.Error as e:\n",
    "        print(e)"
   ]
  },
  {
   "cell_type": "code",
   "execution_count": 3,
   "metadata": {},
   "outputs": [],
   "source": [
    "if __name__ == '__main__':\n",
    "    conn = connect_db(host='localhost', user='postgres', password='docker')\n",
    "    curr = conn.cursor()\n",
    "    # create db\n",
    "    execute_query(curr, drop_db)\n",
    "    #execute_query(curr, create_db)\n",
    "    # create table songplays\n",
    "    execute_query(curr, drop_table_songplays)\n",
    "    execute_query(curr, create_table_songplays)\n",
    "    # create table songs\n",
    "    execute_query(curr, drop_table_songs)\n",
    "    execute_query(curr, create_table_songs)\n",
    "    # create table users\n",
    "    execute_query(curr, drop_table_users)\n",
    "    execute_query(curr, create_table_users)\n",
    "    # create table artists\n",
    "    execute_query(curr, drop_table_artists)\n",
    "    execute_query(curr, create_table_artists)\n",
    "    # create table time\n",
    "    execute_query(curr, drop_table_time)\n",
    "    execute_query(curr, create_table_time)\n",
    "    disconnect_db(conn)"
   ]
  },
  {
   "cell_type": "code",
   "execution_count": 4,
   "metadata": {},
   "outputs": [],
   "source": [
    "import os\n",
    "import pandas as pd\n",
    "import psycopg2\n",
    "from sql_queries import insert_to_songplays, insert_to_users, insert_to_songs, insert_to_artists, insert_to_time\n",
    "from sql_queries import select_song"
   ]
  },
  {
   "cell_type": "code",
   "execution_count": 5,
   "metadata": {},
   "outputs": [],
   "source": [
    "DATA_FOLDER = '/home/binhps/de-udacity/data_modeling_with_postgres/MillionSongSample/'\n",
    "LOG_DATA_FOLDER = DATA_FOLDER + 'log_data/'\n",
    "SONG_DATA_FOLDER = DATA_FOLDER + 'song_data/'"
   ]
  },
  {
   "cell_type": "code",
   "execution_count": 6,
   "metadata": {},
   "outputs": [],
   "source": [
    "def connect_db(host, user, password):\n",
    "    try:\n",
    "        conn = psycopg2.connect('host={} user={} password={}'.format(host, user, password))\n",
    "        conn.set_session(autocommit=True)\n",
    "    except psycopg2.Error as e:\n",
    "        print(e)\n",
    "    return conn\n",
    "\n",
    "def disconnect_db(conn):\n",
    "    try:\n",
    "        conn.close()\n",
    "    except psycopg2.Error as e:\n",
    "        print(e)\n",
    "\n",
    "def execute_query(curr, query, values):\n",
    "    try:\n",
    "        curr.execute(query, values)\n",
    "    except psycopg2.Error as e:\n",
    "        print(e)\n",
    "\n",
    "# log data\n",
    "def all_files(_dir):\n",
    "    for root, dirs, files in os.walk(_dir):\n",
    "        for file in files:\n",
    "            path = os.path.join(root, file)\n",
    "            yield path"
   ]
  },
  {
   "cell_type": "code",
   "execution_count": 7,
   "metadata": {},
   "outputs": [],
   "source": [
    "def process_song_data(file_df, curr):\n",
    "    # songs table\n",
    "    song_data = file_df[['song_id', 'title', 'artist_id', 'year', 'duration']]\n",
    "    song_data = song_data.values[0]\n",
    "    execute_query(curr, insert_to_songs, song_data)\n",
    "    # artists table\n",
    "    artist_data = file_df[['artist_id', 'artist_name', 'artist_location', 'artist_latitude', 'artist_longitude']]\n",
    "    artist_data = artist_data.values[0]\n",
    "    execute_query(curr, insert_to_artists, artist_data)"
   ]
  },
  {
   "cell_type": "code",
   "execution_count": 8,
   "metadata": {},
   "outputs": [],
   "source": [
    "def process_log_data(file_df, curr):\n",
    "    df_nextsong = file_df[file_df['page'] == 'NextSong']\n",
    "    # time table\n",
    "    datetime = pd.to_datetime(df_nextsong['ts'], unit='ms')\n",
    "    for _, row in datetime.iteritems():\n",
    "        execute_query(curr, insert_to_time, \n",
    "                      [row, row.hour, row.day, row.dayofweek, row.month, row.year, row.weekday()])\n",
    "    # users table\n",
    "    users = df_nextsong[['userId', 'firstName','lastName','gender','level']]\n",
    "    for _, row in users.iterrows():\n",
    "        execute_query(curr, insert_to_users, row.values)\n",
    "    # songplays table\n",
    "    for _, row in df_nextsong.iterrows():\n",
    "        curr.execute(select_song, [row.song, row.artist, row.length])\n",
    "        results = curr.fetchone()\n",
    "        \n",
    "        if results:\n",
    "            song_id, artist_id = results\n",
    "        else:\n",
    "            song_id, artist_id = None, None\n",
    "            \n",
    "        starttime = pd.to_datetime(row.ts, unit='ms')\n",
    "        \n",
    "        songplay_data = (starttime, row.userId, row.level, song_id, artist_id, row.sessionId, row.location, row.userAgent)\n",
    "        execute_query(curr, insert_to_songplays, songplay_data)"
   ]
  },
  {
   "cell_type": "code",
   "execution_count": 9,
   "metadata": {},
   "outputs": [],
   "source": [
    "if __name__ == '__main__':\n",
    "    conn = connect_db(host='localhost', user='postgres', password='docker')\n",
    "    curr = conn.cursor()\n",
    "    for file_path in all_files(SONG_DATA_FOLDER):\n",
    "        file = pd.read_json(file_path, lines=True)\n",
    "        process_song_data(file, curr)\n",
    "        \n",
    "    for file_path in all_files(LOG_DATA_FOLDER):\n",
    "        file = pd.read_json(file_path, lines=True)\n",
    "        process_log_data(file, curr)\n",
    "    disconnect_db(conn)"
   ]
  },
  {
   "cell_type": "code",
   "execution_count": null,
   "metadata": {},
   "outputs": [],
   "source": []
  }
 ],
 "metadata": {
  "kernelspec": {
   "display_name": "Python 3",
   "language": "python",
   "name": "python3"
  },
  "language_info": {
   "codemirror_mode": {
    "name": "ipython",
    "version": 3
   },
   "file_extension": ".py",
   "mimetype": "text/x-python",
   "name": "python",
   "nbconvert_exporter": "python",
   "pygments_lexer": "ipython3",
   "version": "3.7.3"
  }
 },
 "nbformat": 4,
 "nbformat_minor": 4
}
